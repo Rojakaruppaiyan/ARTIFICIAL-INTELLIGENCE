{
 "cells": [
  {
   "cell_type": "code",
   "execution_count": 2,
   "id": "8766e739-701b-447b-8727-399d693765e1",
   "metadata": {},
   "outputs": [
    {
     "name": "stdout",
     "output_type": "stream",
     "text": [
      "(768, 9)\n"
     ]
    },
    {
     "ename": "NameError",
     "evalue": "name 'confusion_matrix' is not defined",
     "output_type": "error",
     "traceback": [
      "\u001b[0;31m---------------------------------------------------------------------------\u001b[0m",
      "\u001b[0;31mNameError\u001b[0m                                 Traceback (most recent call last)",
      "Cell \u001b[0;32mIn[2], line 24\u001b[0m\n\u001b[1;32m     22\u001b[0m \u001b[38;5;66;03m# Make predictions\u001b[39;00m\n\u001b[1;32m     23\u001b[0m y_pred \u001b[38;5;241m=\u001b[39m svm\u001b[38;5;241m.\u001b[39mpredict(X_test)\n\u001b[0;32m---> 24\u001b[0m cm \u001b[38;5;241m=\u001b[39m \u001b[43mconfusion_matrix\u001b[49m(y_test, y_pred)\n\u001b[1;32m     26\u001b[0m \u001b[38;5;66;03m# Print the confusion matrix\u001b[39;00m\n\u001b[1;32m     27\u001b[0m \u001b[38;5;28mprint\u001b[39m(\u001b[38;5;124m\"\u001b[39m\u001b[38;5;124mConfusion Matrix:\u001b[39m\u001b[38;5;124m\"\u001b[39m)\n",
      "\u001b[0;31mNameError\u001b[0m: name 'confusion_matrix' is not defined"
     ]
    }
   ],
   "source": [
    "import pandas as pd\n",
    "from sklearn.model_selection import train_test_split\n",
    "from sklearn.preprocessing import StandardScaler\n",
    "from sklearn.svm import SVR\n",
    "from sklearn.metrics import mean_squared_error\n",
    "from sklearn.svm import SVC\n",
    "\n",
    "\n",
    "# Step 1: Load the dataset\n",
    "diabetes_data = pd.read_csv('diabetes.csv')\n",
    "\n",
    "print(diabetes_data.shape)\n",
    "# Step 2: Preprocess the data\n",
    "x = diabetes_data.values[:,1:7]\n",
    "y = diabetes_data.values[:,8] \n",
    "# Split the dataset into training and testing sets\n",
    "X_train, X_test, y_train, y_test = train_test_split(x, y, test_size=0.3, random_state=42)\n",
    "\n",
    "# Train the SVM model\n",
    "svm = SVC(kernel='rbf', gamma=0.5, C=1.0)\n",
    "svm.fit(X_train, y_train)\n",
    "# Make predictions\n",
    "y_pred = svm.predict(X_test)\n",
    "cm = confusion_matrix(y_test, y_pred)\n",
    "\n",
    "# Print the confusion matrix\n",
    "print(\"Confusion Matrix:\")\n",
    "print(cm)\n",
    "# Calculate accuracy\n",
    "accuracy = accuracy_score(y_test, y_pred)\n",
    "print(\"Accuracy:\", accuracy)\n",
    "# Optionally, visualize the confusion matrix\n",
    "disp = ConfusionMatrixDisplay(confusion_matrix=cm)\n",
    "disp.plot(cmap=plt.cm.Blues)\n",
    "plt.show()\n",
    "plt.show()\n",
    " # Calculate precision\n",
    "print(y_test.shape)\n",
    "print(y_pred.shape)\n",
    "precision = precision_score(y_test, y_pred,average='weighted')\n",
    "\n",
    "print(\"Precision:\", precision)\n",
    "# Plot Decision Boundary (No DecisionBoundaryDisplay for SVM)\n",
    " \n",
    "plt.scatter(X_test[:, 1], X_test[:, 2], c=y_pred, s=20, edgecolors=\"k\", cmap=plt.cm.Spectral)\n",
    "plt.xlabel('radius1')\n",
    "plt.ylabel('texture1')\n",
    "plt.title(\"Predicted values on test set\")\n",
    "plt.colorbar(label='Predicted Class')\n",
    "plt.show()\n",
    "# Scatter plot for the true values\n",
    "plt.figure(figsize=(10, 8))\n",
    "plt.scatter(X_test[:, 1], X_test[:, 2], c=y_test, s=20, edgecolors=\"k\", cmap=plt.cm.Spectral)\n",
    "plt.xlabel('radius1')\n",
    "plt.ylabel('texture1')\n",
    "plt.title(\"True values on test set\")\n",
    "plt.colorbar(label='True Class')\n",
    "plt.show()\n",
    "# Scatter plot for the entire dataset\n",
    "plt.figure(figsize=(10, 8))\n",
    "plt.scatter(x[:, 0], x[:, 1], c=y, s=20, edgecolors=\"k\", cmap=plt.cm.Spectral)\n",
    "plt.xlabel('radius1')\n",
    "plt.ylabel('texture1')\n",
    "plt.title(\"Entire dataset\")\n",
    "plt.colorbar(label='Class')\n",
    "plt.show()\n",
    " \n",
    "\n"
   ]
  },
  {
   "cell_type": "code",
   "execution_count": null,
   "id": "38d9f21a-d73d-491a-851f-629d3eea8d56",
   "metadata": {},
   "outputs": [],
   "source": []
  }
 ],
 "metadata": {
  "kernelspec": {
   "display_name": "Python 3 (ipykernel)",
   "language": "python",
   "name": "python3"
  },
  "language_info": {
   "codemirror_mode": {
    "name": "ipython",
    "version": 3
   },
   "file_extension": ".py",
   "mimetype": "text/x-python",
   "name": "python",
   "nbconvert_exporter": "python",
   "pygments_lexer": "ipython3",
   "version": "3.12.3"
  }
 },
 "nbformat": 4,
 "nbformat_minor": 5
}
